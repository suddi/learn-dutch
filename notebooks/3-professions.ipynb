{
 "cells": [
  {
   "cell_type": "markdown",
   "metadata": {},
   "source": [
    "## Professions"
   ]
  },
  {
   "cell_type": "markdown",
   "metadata": {},
   "source": [
    "| Dutch                \t| English               \t| Pronounciation       \t|\n",
    "|----------------------\t|-----------------------\t|----------------------\t|\n",
    "| zijn                 \t| to be                 \t| zayn                 \t|\n",
    "| ik ben               \t| I am                  \t| ik ben               \t|\n",
    "| jij bent             \t| you are               \t| yay bent             \t|\n",
    "| hij is               \t| he is                 \t| hay is               \t|\n",
    "| zij is               \t| she is                \t| zay is               \t|\n",
    "| wij zijn             \t| we are                \t| vay zayn             \t|\n",
    "| jullie zijn          \t| you are (plural)      \t| yullie zayn          \t|\n",
    "| zij zijn             \t| they are              \t| zay zayn             \t|\n",
    "| u bent               \t| you are (formal)      \t| u bent               \t|\n",
    "| de leraar            \t| the teacher (male)    \t| de le-raar           \t|\n",
    "| de lerares           \t| the teacher (female)  \t| de le-raares         \t|\n",
    "| blij                 \t| happy                 \t| blay                 \t|\n",
    "| met                  \t| with                  \t| met                  \t|\n",
    "| leuk                 \t| funny                 \t| leuk                 \t|\n",
    "| mooi                 \t| beautiful             \t| moi                  \t|\n",
    "| de student           \t| the student           \t| de student           \t|\n",
    "| de leerling          \t| the pupil/the scholar \t| de learling          \t|\n",
    "| jong                 \t| young                 \t| yong                 \t|\n",
    "| oud                  \t| old                   \t| owd                  \t|\n",
    "| de koning            \t| the king              \t| de coning            \t|\n",
    "| de baas              \t| the boss              \t| de baas              \t|\n",
    "| de bakker            \t| the baker             \t| de bacher            \t|\n",
    "| de slager            \t| the butcher           \t| the slacher          \t|\n",
    "| de boer              \t| the farmer            \t| de bu-er             \t|\n",
    "| de visser            \t| the fisherman         \t| de fisser            \t|\n",
    "| de advocaat          \t| the lawyer (male)     \t| de advokaat          \t|\n",
    "| de advocate          \t| the lawyer (female)   \t| de advokaateh        \t|\n",
    "| de dokter            \t| the doctor            \t| de dokter            \t|\n",
    "| de ober              \t| the waiter            \t| de ohber             \t|\n",
    "| de politieman        \t| the policeman         \t| de politzemaan       \t|\n",
    "| de agent             \t| the police agent      \t| de ahhent            \t|\n",
    "| de voetballer        \t| the footballer        \t| de vootballer        \t|\n",
    "| de kapper            \t| the hairdresser       \t| de kapper            \t|\n",
    "| de directeur         \t| the company director  \t| de de-recteur        \t|\n",
    "| the boekhouder       \t| the accountant        \t| de bookhowder        \t|\n",
    "| de verkoper          \t| the salesman          \t| de verkoper          \t|\n",
    "| de vertegenwoordiger \t| the representative    \t| de vertehen-vordiher \t|\n",
    "| de premier           \t| the prime minister    \t| de premier           \t|\n",
    "| verkoopt           \t| sells                 \t| ferkopt           \t|"
   ]
  },
  {
   "cell_type": "markdown",
   "metadata": {},
   "source": [
    "**Ik ben een student Nederlands.** (I am a Dutch student.)\n",
    "\n",
    "**Ik ben blij met het huis.** (I am happy with the house.)\n",
    "\n",
    "**Hij is leuk.** (He is funny.)\n",
    "\n",
    "**Wij zijn studenten.** (We are students.)\n",
    "\n",
    "**Zij is mooi.** (She is beautiful.)\n",
    "\n",
    "**Zij is een leerling.** (She is a pupil.)\n",
    "\n",
    "**Jullie zijn jong.** (You are young.)\n",
    "\n",
    "**U bent de koning.** (You are the king.)\n",
    "\n",
    "**Zij zayn boeren.** (They are farmers.)\n",
    "\n",
    "**Zij is advocate.** (She is a lawyer.)\n",
    "\n",
    "**Bent jij blij?** (Are you happy?) \n",
    "\n",
    "**Ja, ik ben blik!** (Yes, I am happy!)\n",
    "\n",
    "**Ik ben blij met de studenten.** (I am happy with the students.)\n",
    "\n",
    "**De studenten Nederlands zijn goed!** (The Dutch students are good!)\n",
    "\n",
    "**Zijn de studenten blij? Ben ik goed?** (Are the students happy? Am I good?)"
   ]
  }
 ],
 "metadata": {
  "kernelspec": {
   "display_name": "Python 3",
   "language": "python",
   "name": "python3"
  },
  "language_info": {
   "codemirror_mode": {
    "name": "ipython",
    "version": 3
   },
   "file_extension": ".py",
   "mimetype": "text/x-python",
   "name": "python",
   "nbconvert_exporter": "python",
   "pygments_lexer": "ipython3",
   "version": "3.8.0"
  }
 },
 "nbformat": 4,
 "nbformat_minor": 4
}
