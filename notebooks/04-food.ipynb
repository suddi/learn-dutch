{
 "cells": [
  {
   "cell_type": "markdown",
   "metadata": {},
   "source": [
    "## Food"
   ]
  },
  {
   "cell_type": "markdown",
   "metadata": {},
   "source": [
    "| Dutch                \t| English                 \t| Pronounciation       \t|\n",
    "|----------------------\t|-------------------------\t|----------------------\t|\n",
    "| de groente           \t| the vegetables          \t| de hrunte            \t|\n",
    "| het fruit            \t| the fruits              \t| het fraut            \t|\n",
    "| het brood            \t| the bread               \t| het broat            \t|\n",
    "| de boterham          \t| the slice of bread      \t| de boaterhaam        \t|\n",
    "| de boterham          \t| the sandwich            \t| de boaterhaam        \t|\n",
    "| de kaas              \t| the cheese              \t| de kaas              \t|\n",
    "| de hagelslag         \t| the chocolate sprinkles \t| de haghelslagh       \t|\n",
    "| de pindakaas         \t| the peanut butter       \t| de pindakaas         \t|\n",
    "| de melk              \t| the milk                \t| de melk              \t|\n",
    "| de koffie            \t| the coffee              \t| de coffee            \t|\n",
    "| de thee              \t| the tea                 \t| de thay              \t|\n",
    "| het bier             \t| the beer                \t| her bieer            \t|\n",
    "| de wijn              \t| the wine                \t| de vine              \t|\n",
    "| het water            \t| the water               \t| het vater            \t|\n",
    "| de aardappel         \t| the potato              \t| de aard-appel        \t|\n",
    "| de aardappeleter     \t| the potato-eater        \t| de aard-appel-eter   \t|\n",
    "| het vlees            \t| the meat                \t| het fleis            \t|\n",
    "| de kip               \t| the chicken             \t| de kip               \t|\n",
    "| de friet             \t| the french fries        \t| de freet             \t|\n",
    "| de frikandel         \t| the Dutch meat sausage  \t| de frikandel         \t|\n",
    "| de kroket            \t| the Dutch meat croquet  \t| de kroket            \t|\n",
    "| lekker               \t| tasty                   \t| lekker               \t|\n",
    "| de pannenkoek        \t| the pancake             \t| de panne-cook        \t|\n",
    "| de stroopwafel       \t| the syrup waffle        \t| de stropevafel       \t|\n",
    "| de stroop            \t| the syrup               \t| de strope            \t|\n",
    "| de wafel             \t| the waffle              \t| de vafel             \t|\n",
    "| de drop              \t| the liquorice           \t| de drop              \t|\n",
    "| de/het snoep         \t| the sweets              \t| de/het snoop         \t|\n",
    "| de boerenkool        \t| the kale                \t| de boorenkohl        \t|\n",
    "| de worst             \t| the sausage             \t| de vorst             \t|\n",
    "| gefrituurde           | fried                     | he-frituurde          |"
   ]
  },
  {
   "cell_type": "markdown",
   "metadata": {},
   "source": [
    "**Eten en drinken.** (Food and drink.)\n",
    "\n",
    "**Koffie of thee?** (Coffee or tea?)\n",
    "\n",
    "**Frietje met.** (French fries with mayonnaise.)"
   ]
  }
 ],
 "metadata": {
  "kernelspec": {
   "display_name": "Python 3",
   "language": "python",
   "name": "python3"
  },
  "language_info": {
   "codemirror_mode": {
    "name": "ipython",
    "version": 3
   },
   "file_extension": ".py",
   "mimetype": "text/x-python",
   "name": "python",
   "nbconvert_exporter": "python",
   "pygments_lexer": "ipython3",
   "version": "3.8.2"
  }
 },
 "nbformat": 4,
 "nbformat_minor": 4
}
