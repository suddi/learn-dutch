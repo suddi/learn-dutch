{
 "cells": [
  {
   "cell_type": "markdown",
   "metadata": {},
   "source": [
    "## Numbers"
   ]
  },
  {
   "cell_type": "markdown",
   "metadata": {},
   "source": [
    "| Dutch             \t| English            \t| Pronounciation       \t|\n",
    "|-------------------\t|--------------------\t|----------------------\t|\n",
    "| hoeveel?          \t| how much/how many? \t| hufail?              \t|\n",
    "| nul               \t| zero               \t| nul                  \t|\n",
    "| een               \t| one                \t| ain                  \t|\n",
    "| twee              \t| two                \t| tvay                 \t|\n",
    "| drie              \t| three              \t| dree                 \t|\n",
    "| vier              \t| four               \t| ve-er                \t|\n",
    "| vijf              \t| five               \t| viyf                 \t|\n",
    "| zes               \t| six                \t| zes                  \t|\n",
    "| zeven             \t| seven              \t| zayfen               \t|\n",
    "| acht              \t| eight              \t| acht                 \t|\n",
    "| negen             \t| nine               \t| nayhen               \t|\n",
    "| tien              \t| ten                \t| teen                 \t|\n",
    "| twee fietsen      \t| two bicycles       \t| tvay fietsen         \t|\n",
    "| drie winkels      \t| three stores       \t| dree vinkels         \t|\n",
    "| vier auto's       \t| four cars          \t| ve-er ow-tohs        \t|\n",
    "| vijf boten        \t| five boats         \t| viyf boaten          \t|\n",
    "| zes bussen        \t| six busses         \t| zes bussen           \t|\n",
    "| zeven wegen       \t| seven roads        \t| zayfen vayhen        \t|\n",
    "| acht haltes       \t| eight stops        \t| acht halters         \t|\n",
    "| negen vliegtuigen \t| nine airplanes     \t| nayhen fleightaughen \t|\n",
    "| tien havens       \t| ten ports          \t| teen hafens          \t|\n",
    "| elf               \t| eleven             \t| elf                  \t|\n",
    "| twaalf            \t| twelve             \t| tvaalf               \t|\n",
    "| dertien           \t| thirteen           \t| der-teen             \t|\n",
    "| veertien          \t| fourteen           \t| ve-erteen            \t|\n",
    "| vijftien          \t| fifteen            \t| viyfteen             \t|\n",
    "| zestien           \t| sixteen            \t| zesteen              \t|\n",
    "| zeventien         \t| seventeen          \t| zayfenteen           \t|\n",
    "| achttien          \t| eighteen           \t| achtteen             \t|\n",
    "| negentien         \t| nineteen           \t| nayhenteen           \t|\n",
    "| twintig           \t| twenty             \t| tvintigh             \t|\n",
    "| eenentwintig      \t| twenty one         \t| ain-en-tvintigh      \t|\n",
    "| negenentwintig    \t| twenty nine        \t| nayhen-en-tvintigh   \t|\n",
    "| dertig            \t| thirty             \t| dertigh              \t|\n",
    "| vierendertig      \t| thirty four        \t| ve-er-en-dertigh     \t|\n",
    "| veertig           \t| fourty             \t| ve-ertigh            \t|\n",
    "| vijftig           \t| fifty              \t| viyftigh             \t|\n",
    "| zestig            \t| sixty              \t| zestigh              \t|\n",
    "| zeventig          \t| seventy            \t| zayfentigh           \t|\n",
    "| tachtig           \t| eighty             \t| tachtigh             \t|\n",
    "| negentig          \t| ninety             \t| nayhentigh           \t|\n",
    "| honderd           \t| hundred            \t| hondert              \t|\n",
    "| tweehonderd       \t| two hundred        \t| tweehondert          \t|\n",
    "| zevenhonderd      \t| seven hundred      \t| zayfenhondert        \t|\n",
    "| duizend           \t| thousand           \t| dousand              \t|\n",
    "| zestigduizend     \t| sixty thousand     \t| zestigh-dousand      \t|\n",
    "| miljoen           \t| million            \t| milyoen              \t|"
   ]
  },
  {
   "cell_type": "markdown",
   "metadata": {},
   "source": [
    "**Hoeveel kost een frietje met een frikandel? Vijf euro.** (How much does a frikandel with french fries cost? Five Euros.)\n",
    "\n",
    "**Gisteren was het eenentwintig oktober. Vandaag is het tweeëntwintig oktober.** (Yesterday was the twenty-first of October. Today is the twenty-second of October.)\n",
    "\n",
    "**Hoeveel kost een huis in Nederland? Tweehonderdduizend euro.** (How much does a house in The Netherlands cost? Two-hundred thousand Euros.)\n",
    "\n",
    "**In de bibliotheek staan tienduizend boeken.** (In the library, there are ten-thousand books.)\n",
    "\n",
    "**Hoe snel rijdt een auto op de snelweg in Nederland? Honderddertig kilometer per uur** (How fast does a car on the highway in The Netherlands? One-hundred and thirty kilometers per hour.)\n",
    "\n",
    "**Vandaag is het dertig januari. Morgen is het eenendertig januari.** (Today is the thirtieth of January. Tomorrow is the thirtyfirst of January.)\n",
    "\n",
    "**In een voetbalteam zijn elf voetballers.** (In a football team, there are eleven football players.)\n",
    "\n",
    "**In de ochtend eet ik vier boterhammen.** (In the morning, I eat four sandwiches.)\n",
    "\n",
    "**Hoeveel is tien + tien? Twintig.** (How much is ten + ten? Twenty.)\n",
    "\n",
    "**Zes + zes, hoeveel is dat? Twaalf.** (Six + six, how much is that? Twelve.)\n",
    "\n",
    "**Op de fiets rijd ik vijftien kilometer per uur.** (I ride fifteen kilometers per hour on the bicycle.)"
   ]
  }
 ],
 "metadata": {
  "kernelspec": {
   "display_name": "Python 3",
   "language": "python",
   "name": "python3"
  },
  "language_info": {
   "codemirror_mode": {
    "name": "ipython",
    "version": 3
   },
   "file_extension": ".py",
   "mimetype": "text/x-python",
   "name": "python",
   "nbconvert_exporter": "python",
   "pygments_lexer": "ipython3",
   "version": "3.8.2"
  }
 },
 "nbformat": 4,
 "nbformat_minor": 4
}
