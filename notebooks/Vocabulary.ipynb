{
 "cells": [
  {
   "cell_type": "markdown",
   "metadata": {},
   "source": [
    "## Introduce Yourself"
   ]
  },
  {
   "cell_type": "markdown",
   "metadata": {},
   "source": [
    "| Dutch       \t| English      \t| Pronounciation \t|\n",
    "|-------------\t|--------------\t|----------------\t|\n",
    "| ik          \t| I            \t| ik             \t|\n",
    "| ik heet     \t| my name is   \t| ik hate        \t|\n",
    "| ik ben      \t| I am         \t| ik ben         \t|\n",
    "| een         \t| a            \t| en             \t|\n",
    "| de          \t| the          \t| de             \t|\n",
    "| het         \t| the          \t| het            \t|\n",
    "| de man      \t| the man      \t| de maan        \t|\n",
    "| de vrouw    \t| the woman    \t| de frou        \t|\n",
    "| de jongen   \t| the boy      \t| de yongen      \t|\n",
    "| het meisje  \t| the girl     \t| het meishe     \t|\n",
    "| het huis    \t| the house    \t| het haus       \t|\n",
    "| hallo       \t| hello        \t| hallo          \t|\n",
    "| hoi         \t| hi           \t| hoi            \t|\n",
    "| goed        \t| good         \t| huud           \t|\n",
    "| slecht      \t| bad          \t| slecht         \t|\n",
    "| morgen      \t| morning      \t| morhen         \t|\n",
    "| morgen      \t| tomorrow     \t| morhen         \t|\n",
    "| goedemorgen \t| good morning \t| huudemorhen    \t|\n",
    "| avond       \t| evening      \t| avont          \t|\n",
    "| goedeavond  \t| good evening \t| huudeavont     \t|\n",
    "| dag         \t| day          \t| dach           \t|\n",
    "| goedendag   \t| good day!    \t| huudendach     \t|\n",
    "| tot ziens   \t| see you      \t| tot ziens      \t|\n",
    "| tot         \t| until        \t| tot            \t|\n",
    "| doei        \t| bye          \t| doi            \t|"
   ]
  },
  {
   "cell_type": "markdown",
   "metadata": {},
   "source": [
    "**Goedemorgen, Ik heet Suddi.** (Good morning, my name is Suddi.)\n",
    "\n",
    "**Ik heet Suddi.** (I am Suddi.)\n",
    "\n",
    "**Ik ben de man.** (I am the man.)\n",
    "\n",
    "**Het is mijn huis.** (It is my house.)\n",
    "\n",
    "**Tot morgen!** (See you tomorrow!)"
   ]
  },
  {
   "cell_type": "markdown",
   "metadata": {},
   "source": [
    "## Person Pronouns"
   ]
  },
  {
   "cell_type": "markdown",
   "metadata": {},
   "source": [
    "| Dutch       \t| English                   \t| Pronounciation \t|\n",
    "|-------------\t|---------------------------\t|----------------\t|\n",
    "| alsjeblieft \t| here you are              \t| als-ye-blieft  \t|\n",
    "| alstublieft \t| here you are              \t| als-tu-blieft  \t|\n",
    "| alsjeblieft \t| please                    \t| als-ye-blieft  \t|\n",
    "| alstublieft \t| please                    \t| als-tu-blieft  \t|\n",
    "| a.u.b       \t| please                    \t| aah-uh-beh     \t|\n",
    "| dank je wel \t| thank you                 \t| dank ye vel    \t|\n",
    "| dank je     \t| thank you                 \t| dank ye        \t|\n",
    "| dank u wel  \t| thank you                 \t| dank u vel     \t|\n",
    "| dank u      \t| thank you                 \t| dank u         \t|\n",
    "| bedankt     \t| thank you                 \t| bedankt        \t|\n",
    "| mijn dank   \t| thank you (formal)        \t| mine dank      \t|\n",
    "| ja          \t| yes                       \t| ya             \t|\n",
    "| nee         \t| no                        \t| nee            \t|\n",
    "| niet        \t| not                       \t| neet           \t|\n",
    "| roken       \t| to smoke                  \t| roken          \t|\n",
    "| niet roken  \t| no smoking                \t| neet roken     \t|\n",
    "| wel         \t| affirmative               \t| vel            \t|\n",
    "| ik wel      \t| but, I am though          \t| ik vel         \t|\n",
    "| misschien   \t| maybe                     \t| miss-he-en     \t|\n",
    "| links       \t| left                      \t| links          \t|\n",
    "| rechts      \t| right                     \t| rechts         \t|\n",
    "| of          \t| or                        \t| of             \t|\n",
    "| en          \t| and                       \t| en             \t|\n",
    "| ik          \t| I                         \t| ik             \t|\n",
    "| jij         \t| you (when stressing who)  \t| yay            \t|\n",
    "| je          \t| you                       \t| ye             \t|\n",
    "| hij         \t| he                        \t| hay            \t|\n",
    "| zij         \t| she (when stressing who)  \t| zay            \t|\n",
    "| ze          \t| she                       \t| ze             \t|\n",
    "| wij         \t| we (when stressing who)   \t| vay            \t|\n",
    "| we          \t| we                        \t| ve             \t|\n",
    "| jullie      \t| you (plural)              \t| yullie         \t|\n",
    "| zij         \t| they (when stressing who) \t| zay            \t|\n",
    "| ze          \t| they                      \t| ze             \t|\n",
    "| u           \t| you (formal)              \t| u              \t|\n",
    "| u           \t| you (formal plural)       \t| u              \t|"
   ]
  },
  {
   "cell_type": "markdown",
   "metadata": {},
   "source": [
    "**Links of rechts?** (Left or right?)\n",
    "\n",
    "**Ik ben niet Paul.** (I am not Paul) **Ik wel.** (But I am though.)\n",
    "\n",
    "**Niet roken alstublieft.** (No smoking please.)\n",
    "\n",
    "**Zij is en vrouw.** (She is a woman.) \n",
    "\n",
    "**Wij zijn de Nederlanders.** (We are the Dutch.)"
   ]
  }
 ],
 "metadata": {
  "kernelspec": {
   "display_name": "Python 3",
   "language": "python",
   "name": "python3"
  },
  "language_info": {
   "codemirror_mode": {
    "name": "ipython",
    "version": 3
   },
   "file_extension": ".py",
   "mimetype": "text/x-python",
   "name": "python",
   "nbconvert_exporter": "python",
   "pygments_lexer": "ipython3",
   "version": "3.8.0"
  }
 },
 "nbformat": 4,
 "nbformat_minor": 4
}
