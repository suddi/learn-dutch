{
 "cells": [
  {
   "cell_type": "markdown",
   "metadata": {},
   "source": [
    "## Introduce Yourself"
   ]
  },
  {
   "cell_type": "markdown",
   "metadata": {},
   "source": [
    "| Dutch       \t| English      \t| Pronounciation \t|\n",
    "|-------------\t|--------------\t|----------------\t|\n",
    "| ik          \t| I            \t| ik             \t|\n",
    "| ik heet     \t| my name is   \t| ik hate        \t|\n",
    "| ik ben      \t| I am         \t| ik ben         \t|\n",
    "| een         \t| a            \t| en             \t|\n",
    "| de          \t| the          \t| de             \t|\n",
    "| het         \t| the          \t| het            \t|\n",
    "| de man      \t| the man      \t| de maan        \t|\n",
    "| de vrouw    \t| the woman    \t| de frou        \t|\n",
    "| de jongen   \t| the boy      \t| de yongen      \t|\n",
    "| het meisje  \t| the girl     \t| het meishe     \t|\n",
    "| het huis    \t| the house    \t| het haus       \t|\n",
    "| hallo       \t| hello        \t| hallo          \t|\n",
    "| hoi         \t| hi           \t| hoi            \t|\n",
    "| goed        \t| good         \t| huud           \t|\n",
    "| slecht      \t| bad          \t| slecht         \t|\n",
    "| morgen      \t| morning      \t| morhen         \t|\n",
    "| morgen      \t| tomorrow     \t| morhen         \t|\n",
    "| goedemorgen \t| good morning \t| huudemorhen    \t|\n",
    "| avond       \t| evening      \t| avont          \t|\n",
    "| goedeavond  \t| good evening \t| huudeavont     \t|\n",
    "| dag         \t| day          \t| dach           \t|\n",
    "| goedendag   \t| good day!    \t| huudendach     \t|\n",
    "| tot ziens   \t| see you      \t| tot ziens      \t|\n",
    "| tot         \t| until        \t| tot            \t|\n",
    "| doei        \t| bye          \t| doi            \t|"
   ]
  },
  {
   "cell_type": "markdown",
   "metadata": {},
   "source": [
    "**Goedemorgen, Ik heet Suddi.** (Good morning, my name is Suddi.)\n",
    "\n",
    "**Ik heet Suddi.** (I am Suddi.)\n",
    "\n",
    "**Ik ben de man.** (I am the man.)\n",
    "\n",
    "**Het is mijn huis.** (It is my house.)\n",
    "\n",
    "**Tot morgen!** (See you tomorrow!)"
   ]
  },
  {
   "cell_type": "markdown",
   "metadata": {},
   "source": [
    "## Person Pronouns"
   ]
  },
  {
   "cell_type": "markdown",
   "metadata": {},
   "source": [
    "| Dutch       \t| English                   \t| Pronounciation \t|\n",
    "|-------------\t|---------------------------\t|----------------\t|\n",
    "| alsjeblieft \t| here you are              \t| als-ye-blieft  \t|\n",
    "| alstublieft \t| here you are              \t| als-tu-blieft  \t|\n",
    "| alsjeblieft \t| please                    \t| als-ye-blieft  \t|\n",
    "| alstublieft \t| please                    \t| als-tu-blieft  \t|\n",
    "| a.u.b       \t| please                    \t| aah-uh-beh     \t|\n",
    "| dank je wel \t| thank you                 \t| dank ye vel    \t|\n",
    "| dank je     \t| thank you                 \t| dank ye        \t|\n",
    "| dank u wel  \t| thank you                 \t| dank u vel     \t|\n",
    "| dank u      \t| thank you                 \t| dank u         \t|\n",
    "| bedankt     \t| thank you                 \t| bedankt        \t|\n",
    "| mijn dank   \t| thank you (formal)        \t| mine dank      \t|\n",
    "| ja          \t| yes                       \t| ya             \t|\n",
    "| nee         \t| no                        \t| nee            \t|\n",
    "| niet        \t| not                       \t| neet           \t|\n",
    "| roken       \t| to smoke                  \t| roken          \t|\n",
    "| niet roken  \t| no smoking                \t| neet roken     \t|\n",
    "| wel         \t| affirmative               \t| vel            \t|\n",
    "| ik wel      \t| but, I am though          \t| ik vel         \t|\n",
    "| misschien   \t| maybe                     \t| miss-he-en     \t|\n",
    "| links       \t| left                      \t| links          \t|\n",
    "| rechts      \t| right                     \t| rechts         \t|\n",
    "| of          \t| or                        \t| of             \t|\n",
    "| en          \t| and                       \t| en             \t|\n",
    "| ik          \t| I                         \t| ik             \t|\n",
    "| jij         \t| you (when stressing who)  \t| yay            \t|\n",
    "| je          \t| you                       \t| ye             \t|\n",
    "| hij         \t| he                        \t| hay            \t|\n",
    "| zij         \t| she (when stressing who)  \t| zay            \t|\n",
    "| ze          \t| she                       \t| ze             \t|\n",
    "| wij         \t| we (when stressing who)   \t| vay            \t|\n",
    "| we          \t| we                        \t| ve             \t|\n",
    "| jullie      \t| you (plural)              \t| yullie         \t|\n",
    "| zij         \t| they (when stressing who) \t| zay            \t|\n",
    "| ze          \t| they                      \t| ze             \t|\n",
    "| u           \t| you (formal)              \t| u              \t|\n",
    "| u           \t| you (formal plural)       \t| u              \t|"
   ]
  },
  {
   "cell_type": "markdown",
   "metadata": {},
   "source": [
    "**Links of rechts?** (Left or right?)\n",
    "\n",
    "**Ik ben niet Paul.** (I am not Paul) **Ik wel.** (But I am though.)\n",
    "\n",
    "**Niet roken alstublieft.** (No smoking please.)\n",
    "\n",
    "**Zij is en vrouw.** (She is a woman.) \n",
    "\n",
    "**Wij zijn de Nederlanders.** (We are the Dutch.)"
   ]
  },
  {
   "cell_type": "markdown",
   "metadata": {},
   "source": [
    "## Professions"
   ]
  },
  {
   "cell_type": "markdown",
   "metadata": {},
   "source": [
    "| Dutch                \t| English               \t| Pronounciation       \t|\n",
    "|----------------------\t|-----------------------\t|----------------------\t|\n",
    "| zijn                 \t| to be                 \t| zayn                 \t|\n",
    "| ik ben               \t| I am                  \t| ik ben               \t|\n",
    "| jij bent             \t| you are               \t| yay bent             \t|\n",
    "| hij is               \t| he is                 \t| hay is               \t|\n",
    "| zij is               \t| she is                \t| zay is               \t|\n",
    "| wij zijn             \t| we are                \t| vay zayn             \t|\n",
    "| jullie zijn          \t| you are (plural)      \t| yullie zayn          \t|\n",
    "| zij zijn             \t| they are              \t| zay zayn             \t|\n",
    "| u bent               \t| you are (formal)      \t| u bent               \t|\n",
    "| de leraar            \t| the teacher (male)    \t| de le-raar           \t|\n",
    "| de lerares           \t| the teacher (female)  \t| de le-raares         \t|\n",
    "| blij                 \t| happy                 \t| blay                 \t|\n",
    "| met                  \t| with                  \t| met                  \t|\n",
    "| leuk                 \t| funny                 \t| leuk                 \t|\n",
    "| mooi                 \t| beautiful             \t| moi                  \t|\n",
    "| de student           \t| the student           \t| de student           \t|\n",
    "| de leerling          \t| the pupil/the scholar \t| de learling          \t|\n",
    "| jong                 \t| young                 \t| yong                 \t|\n",
    "| oud                  \t| old                   \t| owd                  \t|\n",
    "| de koning            \t| the king              \t| de coning            \t|\n",
    "| de baas              \t| the boss              \t| de baas              \t|\n",
    "| de bakker            \t| the baker             \t| de bacher            \t|\n",
    "| de slager            \t| the butcher           \t| the slacher          \t|\n",
    "| de boer              \t| the farmer            \t| de bu-er             \t|\n",
    "| de visser            \t| the fisherman         \t| de fisser            \t|\n",
    "| de advocaat          \t| the lawyer (male)     \t| de advokaat          \t|\n",
    "| de advocate          \t| the lawyer (female)   \t| de advokaateh        \t|\n",
    "| de dokter            \t| the doctor            \t| de dokter            \t|\n",
    "| de ober              \t| the waiter            \t| de ohber             \t|\n",
    "| de politieman        \t| the policeman         \t| de politzemaan       \t|\n",
    "| de agent             \t| the police agent      \t| de ahhent            \t|\n",
    "| de voetballer        \t| the footballer        \t| de vootballer        \t|\n",
    "| de kapper            \t| the hairdresser       \t| de kapper            \t|\n",
    "| de directeur         \t| the company director  \t| de de-recteur        \t|\n",
    "| the boekhouder       \t| the accountant        \t| de bookhowder        \t|\n",
    "| de verkoper          \t| the salesman          \t| de verkoper          \t|\n",
    "| de vertegenwoordiger \t| the representative    \t| de vertehen-vordiher \t|\n",
    "| de premier           \t| the prime minister    \t| de premier           \t|"
   ]
  },
  {
   "cell_type": "markdown",
   "metadata": {},
   "source": [
    "**Ik ben een student Nederlands.** (I am a Dutch student.)\n",
    "\n",
    "**Ik ben blij met het huis.** (I am happy with the house.)\n",
    "\n",
    "**Hij is leuk.** (He is funny.)\n",
    "\n",
    "**Wij zijn studenten.** (We are students.)\n",
    "\n",
    "**Zij is mooi.** (She is beautiful.)\n",
    "\n",
    "**Zij is een leerling.** (She is a pupil.)\n",
    "\n",
    "**Jullie zijn jong.** (You are young.)\n",
    "\n",
    "**U bent de koning.** (You are the king.)\n",
    "\n",
    "**Zij zayn boeren.** (They are farmers.)\n",
    "\n",
    "**Zij is advocate.** (She is a lawyer.)\n",
    "\n",
    "**Bent jij blij?** (Are you happy?) \n",
    "**Ja, ik ben blik!** (Yes, I am happy!)\n",
    "**Ik ben blij met de studenten.** (I am happy with the students.)\n",
    "**De studenten Nederlands zijn goed!** (The Dutch students are good!)\n",
    "**Zijn de studented blij? Ben ik goed?** (Are the students happy? Am I good?)"
   ]
  }
 ],
 "metadata": {
  "kernelspec": {
   "display_name": "Python 3",
   "language": "python",
   "name": "python3"
  },
  "language_info": {
   "codemirror_mode": {
    "name": "ipython",
    "version": 3
   },
   "file_extension": ".py",
   "mimetype": "text/x-python",
   "name": "python",
   "nbconvert_exporter": "python",
   "pygments_lexer": "ipython3",
   "version": "3.8.0"
  }
 },
 "nbformat": 4,
 "nbformat_minor": 4
}
