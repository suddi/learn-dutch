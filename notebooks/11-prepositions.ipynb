{
 "cells": [
  {
   "cell_type": "markdown",
   "metadata": {},
   "source": [
    "## Prepositions"
   ]
  },
  {
   "cell_type": "markdown",
   "metadata": {},
   "source": [
    "| Dutch      | English            | Pronounciation |\n",
    "|------------|--------------------|----------------|\n",
    "| naar       | to                 | naar           |\n",
    "| van        | from               | van            |\n",
    "| in         | in                 | in             |\n",
    "| voor       | in front of/before/for | fore           |\n",
    "| naast      | next to            | naast          |\n",
    "| achter     | behind             | achter         |\n",
    "| beneden    | down/downstairs    | benayden       |\n",
    "| boven      | upstairs/above     | bow-ven        |\n",
    "| onder      | below              | onder          |\n",
    "| op         | at/on top          | op             |\n",
    "| tussen     | between            | tussen         |\n",
    "| het midden | the middle         | het midden     |\n",
    "| over       | over               | over           |\n",
    "| door       | through            | door           |\n",
    "| bij        | at/by/near         | bay            |\n",
    "| binnen     | inside             | binnen         |\n",
    "| buiten     | outside            | bouwten        |\n",
    "| tegen      | against            | tay-ghen       |\n",
    "| rond       | around             | ront           |\n",
    "| sinds      | since              | since          |\n",
    "| met        | with               | met            |\n",
    "| zonder     | without            | zonder         |\n",
    "| voor       | before             | fore           |\n",
    "| na         | after              | na             |\n",
    "| om         | at                 | om             |"
   ]
  },
  {
   "cell_type": "markdown",
   "metadata": {},
   "source": [
    "**Ik ga om acht uur van huis. Ik fiets met mijn vader naar de supermarkt.** (I go at 8 o'clock from home. I cycle with my father to the supermarket.)\n",
    "\n",
    "**In de lente ga ik naar de Keukenhof. Daar zie ik mooie tulpen.** (In the Spring, I go to The Keukenhof. There, I see beautiful tulips.)\n",
    "\n",
    "**Huisnummer 12 is links, huisnummer 16 is rechts en huisnummer is in het midden.** (House number 12 is left, house number 16 is right and house number 14 is in the middle.)\n",
    "\n",
    "**Wij zijn in het huis. We drinken beneden een bierje. We slapen vanavond boven in de slaapkamer.** (We are in the house. We drink downstairs, a beer. We sleep tonight above in the bedroom.)\n",
    "\n",
    "**Het is zomer! Ik zie de zon boven het huis.** (It is Summer! I see the sun above the house.)\n",
    "\n",
    "**Ik drink koffie zonder melk.** (I drink coffee without milk.)\n",
    "\n",
    "**Ik drink thee met suiker.** (I drink tea with sugar.)\n",
    "\n",
    "**We gaan naar outside, want het is zomer.** (We go to outside, because it is Summer.)\n",
    "\n",
    "**Mijn voeten zijn onder de tafel.** (My feet are under the table.)\n",
    "\n",
    "**De voetballers praten over sport.** (The footballers talk about sport.)\n",
    "\n",
    "**Ajax voetbalt vandaag tegen AC Milan. Martin is voor Ajax. Hij is tegen AC Milan.** (Ajax play football tonight against AC Milan. Martin is for Ajax. He is against AC Milan.)\n",
    "\n",
    "**Woensdag is voor donderdag en na dinsdag.** (Wednesday is before Thursday and after Tuesday.)\n",
    "\n",
    "**De kerk is links. De supermarkt is rechts. Tussen de kerk en de supermarkt is mijn huis.** (The church is left. The supermarket is right. In between the church and the supermarkt is my house.)\n",
    "\n",
    "**De jongens lopen door het park.** (The boys walk through the park.)\n",
    "\n",
    "**Achter de school is een supermarkt. Voor de school is een park. Het park is groot.** (Behind the school is a supermarket. In front of the school is a park. The park is big.)\n",
    "\n",
    "**Ik loop naar de auto. De auto staat voor het huis.** (I walk to the car. The car is standing in front of the house.)\n",
    "\n",
    "**Vandaag loop ik naar school.** (Today, I walk to school.)\n",
    "\n",
    "**De toeristen lopen rond de kerk. De kerk is oud en mooi.** (The tourists walk around the church. The church is old and beautiful.)\n",
    "\n",
    "**Sinds april ben ik in Nederland. Dat is nog niet lang.** (Since April, I have been in Netherlands. That is not long yet.)\n",
    "\n",
    "**Voor en na de les ga ik naar de wc.** (Before and after the lesson, I go to the toilet.)\n",
    "\n",
    "**De man rijdt snel. Hij rijdt in de snelweg met zijn snelle auto.** (The man drives fast. He drives in the expressway with a fast car.)\n",
    "\n",
    "**De kinderen zijn binnen, want buiten is het koud.** (The children are inside, because outside is the cold.)\n",
    "\n",
    "**De mooie bloemen staan op de tafel.** (The beautful flowers stands on top of the table.)\n",
    "\n",
    "**Om negen uur begint de les. De les is tot een uur.** (At 9 o'clock begins the lesson. The lesson is until 1 hour.)\n",
    "\n",
    "**Bij de supermarkt koop ik vis en vlees.** (At the supermarket, I buy fish and meat.)\n",
    "\n",
    "**De lerares loopt naast de leerling. Ze spreekt Nederlands met hem. Ze is lief.** (The teachers walk next to the student. They speak Dutch with him. They are lovely.)\n",
    "\n",
    "**Mijn auto staat op de straat, voor het huis.** (My car stands at the street, in front of the house.)"
   ]
  }
 ],
 "metadata": {
  "kernelspec": {
   "display_name": "Python 3",
   "language": "python",
   "name": "python3"
  },
  "language_info": {
   "codemirror_mode": {
    "name": "ipython",
    "version": 3
   },
   "file_extension": ".py",
   "mimetype": "text/x-python",
   "name": "python",
   "nbconvert_exporter": "python",
   "pygments_lexer": "ipython3",
   "version": "3.8.2"
  }
 },
 "nbformat": 4,
 "nbformat_minor": 4
}
