{
 "cells": [
  {
   "cell_type": "markdown",
   "metadata": {},
   "source": [
    "## Person Pronouns"
   ]
  },
  {
   "cell_type": "markdown",
   "metadata": {},
   "source": [
    "| Dutch       \t| English                   \t| Pronounciation \t|\n",
    "|-------------\t|---------------------------\t|----------------\t|\n",
    "| alsjeblieft \t| here you are              \t| als-ye-blieft  \t|\n",
    "| alstublieft \t| here you are              \t| als-tu-blieft  \t|\n",
    "| alsjeblieft \t| please                    \t| als-ye-blieft  \t|\n",
    "| alstublieft \t| please                    \t| als-tu-blieft  \t|\n",
    "| a.u.b       \t| please                    \t| aah-uh-beh     \t|\n",
    "| dank je wel \t| thank you                 \t| dank ye vel    \t|\n",
    "| dank je     \t| thank you                 \t| dank ye        \t|\n",
    "| dank u wel  \t| thank you                 \t| dank u vel     \t|\n",
    "| dank u      \t| thank you                 \t| dank u         \t|\n",
    "| bedankt     \t| thank you                 \t| bedankt        \t|\n",
    "| mijn dank   \t| thank you (formal)        \t| mine dank      \t|\n",
    "| ja          \t| yes                       \t| ya             \t|\n",
    "| nee         \t| no                        \t| nay            \t|\n",
    "| niet        \t| not                       \t| neet           \t|\n",
    "| roken       \t| to smoke                  \t| roken          \t|\n",
    "| niet roken  \t| no smoking                \t| neet roken     \t|\n",
    "| wel         \t| affirmative               \t| vel            \t|\n",
    "| ik wel      \t| but, I am though          \t| ik vel         \t|\n",
    "| misschien   \t| maybe                     \t| miss-he-en     \t|\n",
    "| links       \t| left                      \t| links          \t|\n",
    "| rechts      \t| right                     \t| rechts         \t|\n",
    "| of          \t| or                        \t| of             \t|\n",
    "| en          \t| and                       \t| en             \t|\n",
    "| ik          \t| I                         \t| ik             \t|\n",
    "| jij         \t| you (when stressing who)  \t| yay            \t|\n",
    "| je          \t| you                       \t| ye             \t|\n",
    "| hij         \t| he                        \t| hay            \t|\n",
    "| zij         \t| she (when stressing who)  \t| zay            \t|\n",
    "| ze          \t| she                       \t| ze             \t|\n",
    "| wij         \t| we (when stressing who)   \t| vay            \t|\n",
    "| we          \t| we                        \t| ve             \t|\n",
    "| jullie      \t| you (plural)              \t| yullie         \t|\n",
    "| zij         \t| they (when stressing who) \t| zay            \t|\n",
    "| ze          \t| they                      \t| ze             \t|\n",
    "| u           \t| you (formal)              \t| u              \t|\n",
    "| u           \t| you (formal plural)       \t| u              \t|"
   ]
  },
  {
   "cell_type": "markdown",
   "metadata": {},
   "source": [
    "**Links of rechts?** (Left or right?)\n",
    "\n",
    "**Ik ben niet Paul.** (I am not Paul) **Ik wel.** (But I am though.)\n",
    "\n",
    "**Niet roken alstublieft.** (No smoking please.)\n",
    "\n",
    "**Zij is en vrouw.** (She is a woman.) \n",
    "\n",
    "**Wij zijn de Nederlanders.** (We are the Dutch.)"
   ]
  }
 ],
 "metadata": {
  "kernelspec": {
   "display_name": "Python 3",
   "language": "python",
   "name": "python3"
  },
  "language_info": {
   "codemirror_mode": {
    "name": "ipython",
    "version": 3
   },
   "file_extension": ".py",
   "mimetype": "text/x-python",
   "name": "python",
   "nbconvert_exporter": "python",
   "pygments_lexer": "ipython3",
   "version": "3.8.0"
  }
 },
 "nbformat": 4,
 "nbformat_minor": 4
}
