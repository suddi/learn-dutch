{
 "cells": [
  {
   "cell_type": "markdown",
   "metadata": {},
   "source": [
    "## Introduce Yourself"
   ]
  },
  {
   "cell_type": "markdown",
   "metadata": {},
   "source": [
    "| Dutch       \t| English      \t| Pronounciation \t|\n",
    "|-------------\t|--------------\t|----------------\t|\n",
    "| ik          \t| I            \t| ik             \t|\n",
    "| ik heet     \t| my name is   \t| ik hate        \t|\n",
    "| ik ben      \t| I am         \t| ik ben         \t|\n",
    "| een         \t| a            \t| en             \t|\n",
    "| de          \t| the          \t| de             \t|\n",
    "| het         \t| the          \t| het            \t|\n",
    "| de man      \t| the man      \t| de maan        \t|\n",
    "| de vrouw    \t| the woman    \t| de frou        \t|\n",
    "| de jongen   \t| the boy      \t| de yongen      \t|\n",
    "| het meisje  \t| the girl     \t| het meishe     \t|\n",
    "| het huis    \t| the house    \t| het haus       \t|\n",
    "| hallo       \t| hello        \t| hallo          \t|\n",
    "| hoi         \t| hi           \t| hoi            \t|\n",
    "| goed        \t| good         \t| huud           \t|\n",
    "| slecht      \t| bad          \t| slecht         \t|\n",
    "| morgen      \t| morning      \t| morhen         \t|\n",
    "| morgen      \t| tomorrow     \t| morhen         \t|\n",
    "| goedemorgen \t| good morning \t| huudemorhen    \t|\n",
    "| avond       \t| evening      \t| avont          \t|\n",
    "| goedeavond  \t| good evening \t| huudeavont     \t|\n",
    "| dag         \t| day          \t| dach           \t|\n",
    "| dag         \t| hi/good bye  \t| dach           \t|\n",
    "| goedendag   \t| good day!    \t| huudendach     \t|\n",
    "| tot ziens   \t| see you      \t| tot ziens      \t|\n",
    "| tot         \t| until        \t| tot            \t|\n",
    "| doei        \t| bye          \t| doi            \t|\n",
    "| hoe gaat het  | how are you?  | hu haat het       |"
   ]
  },
  {
   "cell_type": "markdown",
   "metadata": {},
   "source": [
    "**Goedemorgen, Ik heet Suddi.** (Good morning, my name is Suddi.)\n",
    "\n",
    "**Ik ben Suddi.** (I am Suddi.)\n",
    "\n",
    "**Ik ben de man.** (I am the man.)\n",
    "\n",
    "**Het is mijn huis.** (It is my house.)\n",
    "\n",
    "**Tot morgen!** (See you tomorrow!)"
   ]
  }
 ],
 "metadata": {
  "kernelspec": {
   "display_name": "Python 3",
   "language": "python",
   "name": "python3"
  },
  "language_info": {
   "codemirror_mode": {
    "name": "ipython",
    "version": 3
   },
   "file_extension": ".py",
   "mimetype": "text/x-python",
   "name": "python",
   "nbconvert_exporter": "python",
   "pygments_lexer": "ipython3",
   "version": "3.8.2"
  }
 },
 "nbformat": 4,
 "nbformat_minor": 4
}
