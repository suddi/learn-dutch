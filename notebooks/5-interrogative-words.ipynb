{
 "cells": [
  {
   "cell_type": "markdown",
   "metadata": {},
   "source": [
    "## Interrogative Words"
   ]
  },
  {
   "cell_type": "markdown",
   "metadata": {},
   "source": [
    "| Dutch                \t| English                \t| Pronounciation       \t|\n",
    "|----------------------\t|------------------------\t|----------------------\t|\n",
    "| wie?                 \t| who?                   \t| v?                   \t|\n",
    "| wat?                 \t| what?                  \t| vat?                 \t|\n",
    "| dat                  \t| that                   \t| dat                  \t|\n",
    "| de carnaval          \t| carnival               \t| de carnaval          \t|\n",
    "| dit                  \t| this                   \t| dit                  \t|\n",
    "| welke                \t| which?                 \t| velke?               \t|\n",
    "| deze                 \t| this                   \t| day-sa               \t|\n",
    "| die                  \t| that                   \t| d                    \t|\n",
    "| waar?                \t| where?                 \t| vaar?                \t|\n",
    "| hier                 \t| here                   \t| he-er                \t|\n",
    "| daar                 \t| there                  \t| daar                 \t|\n",
    "| wanneer?             \t| when?                  \t| vanay-er?            \t|\n",
    "| dan                  \t| then (future and past) \t| dan                  \t|\n",
    "| toen                 \t| then (past)            \t| toon                 \t|\n",
    "| terwijl              \t| while                  \t| tervel               \t|\n",
    "| hoe?                 \t| how?                   \t| hu?                  \t|\n",
    "| zo!                  \t| like this!             \t| zo!                  \t|\n",
    "| hoeveel?             \t| how much/how many?     \t| hufail?              \t|\n",
    "| de bloem             \t| the flower             \t| de bloom             \t|\n",
    "| waarom?              \t| why?                   \t| vaarom?              \t|\n",
    "| daarom!              \t| that is why!           \t| daarom!              \t|\n",
    "| want                 \t| because                \t| vant                 \t|\n",
    "| omdat                \t| because                \t| omdat                \t|\n",
    "| maar                 \t| but                    \t| maar                 \t|\n",
    "| behalve              \t| except                 \t| be-halfe             \t|\n",
    "| de fiets             \t| the bicycle            \t| de feets             \t|"
   ]
  },
  {
   "cell_type": "markdown",
   "metadata": {},
   "source": [
    "**Wat is leuk?** (What is funny?)\n",
    "\n",
    "**Wie is dat?** (Who is that?)\n",
    "\n",
    "**Dat is Rembrandt.** (That is Rembrandt.)\n",
    "\n",
    "**Wat is dit?** (What is this?)\n",
    "\n",
    "**Dit is kaas.** (This is cheese.)\n",
    "\n",
    "**Waar is Nederland?** (Where is The Netherlands?)\n",
    "\n",
    "**Daar is Nederland.** (There is The Netherlands.)\n",
    "\n",
    "**Hoeveel bloemen?** (How many flowers?)"
   ]
  }
 ],
 "metadata": {
  "kernelspec": {
   "display_name": "Python 3",
   "language": "python",
   "name": "python3"
  },
  "language_info": {
   "codemirror_mode": {
    "name": "ipython",
    "version": 3
   },
   "file_extension": ".py",
   "mimetype": "text/x-python",
   "name": "python",
   "nbconvert_exporter": "python",
   "pygments_lexer": "ipython3",
   "version": "3.8.0"
  }
 },
 "nbformat": 4,
 "nbformat_minor": 4
}
