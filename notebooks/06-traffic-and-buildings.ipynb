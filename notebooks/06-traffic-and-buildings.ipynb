{
 "cells": [
  {
   "cell_type": "markdown",
   "metadata": {},
   "source": [
    "## Traffic and Buildings"
   ]
  },
  {
   "cell_type": "markdown",
   "metadata": {},
   "source": [
    "| Dutch                \t| English                 \t| Pronounciation       \t|\n",
    "|----------------------\t|-------------------------\t|----------------------\t|\n",
    "| de fiets             \t| the bike                \t| de feets             \t|\n",
    "| de straat            \t| the street              \t| de straat            \t|\n",
    "| de weg               \t| the road                \t| de veg               \t|\n",
    "| de snelweg           \t| the expressway/highway  \t| de snelveg           \t|\n",
    "| het verkeer          \t| the traffic             \t| het ferkear          \t|\n",
    "| de auto              \t| the car                 \t| de ow-toh            \t|\n",
    "| de bus               \t| the bus                 \t| de bus               \t|\n",
    "| de trein             \t| the train               \t| de train             \t|\n",
    "| de tram              \t| the tram                \t| de tram              \t|\n",
    "| de halte             \t| the halt/stop           \t| de halter            \t|\n",
    "| de metro             \t| the metro/subway        \t| de maytro            \t|\n",
    "| het openbaar vervoer \t| the public transport    \t| het openbaar fervoer \t|\n",
    "| het ov               \t| the public transport    \t| het ovay             \t|\n",
    "| de ov-chipkaart      \t| the ov-chipkaart        \t| de ovay-chipkaart    \t|\n",
    "| de boot              \t| the boat                \t| de boat              \t|\n",
    "| het vliegtuig        \t| the airplane            \t| het fleightaugh      \t|\n",
    "| het tuig             \t| the rig                 \t| het taugh            \t|\n",
    "| de vlieg             \t| the fly                 \t| de fleigh            \t|\n",
    "| KLM                  \t| KLM                     \t| Ka-El-Em             \t|\n",
    "| het vliegveld        \t| the airport             \t| het fleighfelt       \t|\n",
    "| Schiphol             \t| Schiphol                \t| S-hiphol             \t|\n",
    "| de haven             \t| the port                \t| de hafen             \t|\n",
    "| het station          \t| the station             \t| het station          \t|\n",
    "| het kantoor          \t| the office              \t| het canto-er         \t|\n",
    "| de winkel            \t| the shop/store          \t| de vinkel            \t|\n",
    "| de bloemenwinkel     \t| the flower shop         \t| de blumenvinkel      \t|\n",
    "| de supermarkt        \t| the supermarket         \t| de supermarkt        \t|\n",
    "| het ziekenhuis       \t| the hospital/sick house \t| het ziekenhaus       \t|\n",
    "| de apotheek          \t| the pharmacy            \t| de apotaek           \t|\n",
    "| het zwembad          \t| the swimming pool       \t| het swembatt         \t|\n",
    "| de sporthal          \t| the sports hall         \t| de sporthal          \t|\n",
    "| het politiebureau    \t| the police station      \t| het politzebureau    \t|\n",
    "| de bibliotheek       \t| the library             \t| de bibliotaek        \t|\n",
    "| de universiteit      \t| the university          \t| de ooniversitate     \t|\n",
    "| de school            \t| the school              \t| de s-ghol            \t|"
   ]
  },
  {
   "cell_type": "markdown",
   "metadata": {},
   "source": [
    "**De boot is in de hafen.** (The boat is in the port.)\n",
    "\n",
    "**De agent werkt in het politiebureau.** (The policeman works in the police station.)\n",
    "\n",
    "**Het vliegtuig is op het vliegveld.** (The airplane is on the airport.)\n",
    "\n",
    "**De auto rijdt 130 km/uur op de snelweg.** (The car rides 130 km/hour on the highway.)\n",
    "\n",
    "**De leraar werkt in de school.** (The teacher works in the school.)\n",
    "\n",
    "**Een supermarkt is een winkel.** (A supermarket is a store.)\n",
    "\n",
    "**De dokter werkt in het ziekenhuis.** (The doctor works in the hospital.)\n",
    "\n",
    "**In Amsterdam en Rotterdam is een metro. In Utrecht niet.** (In Amsterdam and Rotterdam there is a metro. In Utrecht, there is not.)\n",
    "\n",
    "**De tram stopt bij de halte.** (The tram stops at the halt.)\n",
    "\n",
    "**De trein rijdt naar de station.** (The train rijdt naar de station.)\n",
    "\n",
    "**In het ziekenhuis is een apotheek.** (In the hospital, there is a pharmacy.)\n",
    "\n",
    "**De tram, de trein, de metro en de bus zijn openbaar vervoer.** (The tram, the train, the metro and the bus are public transport.)\n",
    "\n",
    "**Bij de sporthal is een zwembad.** (At the sports hall, there is a swimming pool.)\n",
    "\n",
    "**De verkoper werkt in de winkel.** (The seller works in the store.)\n",
    "\n",
    "**In de school is een bibliotheek.** (In the school, there is a library.)"
   ]
  }
 ],
 "metadata": {
  "kernelspec": {
   "display_name": "Python 3",
   "language": "python",
   "name": "python3"
  },
  "language_info": {
   "codemirror_mode": {
    "name": "ipython",
    "version": 3
   },
   "file_extension": ".py",
   "mimetype": "text/x-python",
   "name": "python",
   "nbconvert_exporter": "python",
   "pygments_lexer": "ipython3",
   "version": "3.8.2"
  }
 },
 "nbformat": 4,
 "nbformat_minor": 4
}
